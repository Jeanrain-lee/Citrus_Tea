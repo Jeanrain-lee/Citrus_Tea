{
  "nbformat": 4,
  "nbformat_minor": 0,
  "metadata": {
    "colab": {
      "name": "2_cnn_torch[tcmallocerror].ipynb",
      "provenance": [],
      "collapsed_sections": []
    },
    "kernelspec": {
      "name": "python3",
      "display_name": "Python 3"
    },
    "accelerator": "GPU"
  },
  "cells": [
    {
      "cell_type": "markdown",
      "metadata": {
        "id": "4-vGg6I7CRGA",
        "colab_type": "text"
      },
      "source": [
        "# CNN torch.ver\n",
        "# tcmalloc : large alloc error\n",
        "에러메시지 출력이 아닌 세션 강제종료로 아예 멈춤, 로그 추적하면 해당 메시지를 찾을 수 있지만 메모리 할당 문제라는데.... </br>\n",
        "=> 나중에 비교"
      ]
    },
    {
      "cell_type": "code",
      "metadata": {
        "id": "Vpz7_b1a6yj2",
        "colab_type": "code",
        "colab": {}
      },
      "source": [
        "# 1. 모듈 import\n",
        "import torch\n",
        "import torch.nn as nn\n",
        "import torch.optim as optim\n",
        "import torch.nn.init as init\n",
        "from torch.utils.data import DataLoader\n",
        "import torchvision.transforms as transforms\n",
        "import os, numpy as np\n",
        "import matplotlib.pyplot as plt\n",
        "import torch.nn.functional as F"
      ],
      "execution_count": 0,
      "outputs": []
    },
    {
      "cell_type": "code",
      "metadata": {
        "id": "nPXa5Vx8liAr",
        "colab_type": "code",
        "outputId": "5eff9931-b4b9-4491-ac1a-6b5cf21c4f3f",
        "colab": {
          "base_uri": "https://localhost:8080/",
          "height": 127
        }
      },
      "source": [
        "from google.colab import drive\n",
        "drive.mount('/content/drive')"
      ],
      "execution_count": 3,
      "outputs": [
        {
          "output_type": "stream",
          "text": [
            "Go to this URL in a browser: https://accounts.google.com/o/oauth2/auth?client_id=947318989803-6bn6qk8qdgf4n4g3pfee6491hc0brc4i.apps.googleusercontent.com&redirect_uri=urn%3aietf%3awg%3aoauth%3a2.0%3aoob&response_type=code&scope=email%20https%3a%2f%2fwww.googleapis.com%2fauth%2fdocs.test%20https%3a%2f%2fwww.googleapis.com%2fauth%2fdrive%20https%3a%2f%2fwww.googleapis.com%2fauth%2fdrive.photos.readonly%20https%3a%2f%2fwww.googleapis.com%2fauth%2fpeopleapi.readonly\n",
            "\n",
            "Enter your authorization code:\n",
            "··········\n",
            "Mounted at /content/drive\n"
          ],
          "name": "stdout"
        }
      ]
    },
    {
      "cell_type": "code",
      "metadata": {
        "id": "lvi4PL2_VhoS",
        "colab_type": "code",
        "colab": {}
      },
      "source": [
        "batch_size = 100\n",
        "learning_rate = 0.001\n",
        "epochs = 100 "
      ],
      "execution_count": 0,
      "outputs": []
    },
    {
      "cell_type": "code",
      "metadata": {
        "id": "trJWB94T9zNL",
        "colab_type": "code",
        "outputId": "b1082b2f-5183-45da-a079-0547bb4f4e98",
        "colab": {
          "base_uri": "https://localhost:8080/",
          "height": 71
        }
      },
      "source": [
        "# 2. npy 데이터를 불러와서 모델 학습(64 x 64 사이즈의 이미지 약 25000개)\n",
        "X_train, X_test, y_train, y_test = np.load(\"/content/drive/My Drive/last.npy\", allow_pickle=True)\n",
        "print(f'X_train: {X_train.shape}, y_train: {y_train.shape}')  \n",
        "print(f'X_test: {X_test.shape}, y_test: {y_test.shape}')\n",
        "\n",
        "# 데이터 shape [n, c, w, d]로 변경\n",
        "X_train = np.transpose(X_train, (0, 3, 1, 2))\n",
        "X_test = np.transpose(X_test, (0, 3, 1, 2))\n",
        "\n",
        "# data shape 확인\n",
        "print('x_train shape :', X_train.shape)"
      ],
      "execution_count": 3,
      "outputs": [
        {
          "output_type": "stream",
          "text": [
            "X_train: (20802, 64, 64, 3), y_train: (20802, 5)\n",
            "X_test: (5201, 64, 64, 3), y_test: (5201, 5)\n",
            "x_train shape : (20802, 3, 64, 64)\n"
          ],
          "name": "stdout"
        }
      ]
    },
    {
      "cell_type": "code",
      "metadata": {
        "id": "baFSG4VnZKVE",
        "colab_type": "code",
        "outputId": "37977b1e-892e-4283-b51d-6fee640fa6da",
        "colab": {
          "base_uri": "https://localhost:8080/",
          "height": 35
        }
      },
      "source": [
        "# ndarray to tensor\n",
        "X_train = torch.from_numpy(X_train)\n",
        "X_test = torch.from_numpy(X_test)\n",
        "y_train = torch.from_numpy(y_train)\n",
        "y_test = torch.from_numpy(y_test)\n",
        "X_train.dtype"
      ],
      "execution_count": 4,
      "outputs": [
        {
          "output_type": "execute_result",
          "data": {
            "text/plain": [
              "torch.uint8"
            ]
          },
          "metadata": {
            "tags": []
          },
          "execution_count": 4
        }
      ]
    },
    {
      "cell_type": "code",
      "metadata": {
        "id": "HxuooCn1jAu0",
        "colab_type": "code",
        "colab": {}
      },
      "source": [
        "# 4. CNN 모델 구성\n",
        "# nn.module을 상속받아 구현 및 생성한 객체는 기본적 훈련 모드\n",
        "# eval() 모드 사용해 추론 모드로 전환 시 dropout, batch_normalization 같은 서로 다른 forward()동작을 하는 모듈에 대해서도 상황에 따라 올바르게 동작\n",
        "# 단 추론이 끝나면 다시 train()선언해 원래의 훈련모드로 돌아가게 해야함\n",
        "\n",
        "\n",
        "class cnntorch(nn.Module):\n",
        "\n",
        "  def __init__(self):\n",
        "    super(cnntorch, self).__init__()\n",
        "    self.conv = nn.Sequential(\n",
        "        # Conv2d(in_channels, out_channels, kernel_size, stride, padding)\n",
        "        # in_channel : RGB | out_channel : 필터의 개수\n",
        "        nn.Conv2d(3, 32, 3, padding=1),\n",
        "        nn.ReLU(),\n",
        "        nn.Conv2d(32, 64, 2,padding=1),\n",
        "        nn.ReLU(),\n",
        "        nn.MaxPool2d(2,2),\n",
        "        nn.Conv2d(64, 32, 3, padding=1),\n",
        "        nn.ReLU(),\n",
        "        nn.MaxPool2d(2, 2),\n",
        "        nn.Dropout(0.25),\n",
        "        nn.Conv2d(32, 16, 3),\n",
        "        nn.ReLU(),\n",
        "        nn.MaxPool2d(2, 2),\n",
        "        nn.Dropout(0.25)\n",
        "    )\n",
        "\n",
        "    self.fc_layer = nn.Sequential(\n",
        "        nn.Linear(16*3*3, 10),\n",
        "        nn.ReLU(),\n",
        "        nn.Dropout(0.5),\n",
        "        nn.Softmax(),\n",
        "        nn.Linear(10, 5)\n",
        "    )\n",
        "        \n",
        "\n",
        "  def forward(self, input):\n",
        "    out = F.relu(self.conv(input))\n",
        "    out = out.view(batch_size, -1)  # 합성곱 연산과 Linear 연산에서 요구되는 텐서의 형태가 다르다\n",
        "    out = self.fc_layer(out)\n",
        "    return out\n"
      ],
      "execution_count": 0,
      "outputs": []
    },
    {
      "cell_type": "code",
      "metadata": {
        "id": "rnj_xm5nCCzU",
        "colab_type": "code",
        "colab": {}
      },
      "source": [
        "model = cnntorch()"
      ],
      "execution_count": 0,
      "outputs": []
    },
    {
      "cell_type": "code",
      "metadata": {
        "id": "4XZtqI4OjDst",
        "colab_type": "code",
        "colab": {}
      },
      "source": [
        "# 4. 모델 컴파일\n",
        "loss_func = nn.CrossEntropyLoss()\n",
        "optimizer = torch.optim.SGD(model.parameters(), lr=learning_rate)"
      ],
      "execution_count": 0,
      "outputs": []
    },
    {
      "cell_type": "code",
      "metadata": {
        "id": "d2_N2_OJ0GJF",
        "colab_type": "code",
        "colab": {}
      },
      "source": [
        "# # 5. 모델 학습\n",
        "for epoch in range(epochs):\n",
        "  model.train()\n",
        "  optimizer.zero_grad()\n",
        "  train_output = model(X_train)\n",
        "  train_loss = criterion(train_output.squeeze(), y_train)\n",
        "  if epoch % 100 == 0:\n",
        "    print('Train Loss at {} is {}'.format(epoch, train_loss.item()))\n",
        "  train_loss.backward()\n",
        "  optimizer.step()"
      ],
      "execution_count": 0,
      "outputs": []
    },
    {
      "cell_type": "code",
      "metadata": {
        "id": "I8oYZn_DEiQN",
        "colab_type": "code",
        "colab": {}
      },
      "source": [
        "# 테스트 데이터 검증\n",
        "correct = 0\n",
        "total = 0\n",
        "with torch.no_grad():\n",
        "  for X_test, y_test in zip(X_test, y_test)\n",
        "    output = model.forward()\n",
        "    y_test, output_index = torch.max(output, 1)\n",
        "\n",
        "    total += label.size(0)\n",
        "    correct += (output_index == y_test).sum().float()\n",
        "  print(\"Accuracy of Test Data: {}\".format(100*correct/total))"
      ],
      "execution_count": 0,
      "outputs": []
    },
    {
      "cell_type": "code",
      "metadata": {
        "id": "VGhmlkIkPS1P",
        "colab_type": "code",
        "colab": {}
      },
      "source": [
        "# loss 그래프\n",
        "train_loss = hist.history['loss']\n",
        "val_loss = hist.history['val_loss']\n",
        "\n",
        "x = range(len(train_loss))\n",
        "plt.plot(x, train_loss, marker='.', color='red', label='Train loss')\n",
        "plt.plot(x, val_loss, marker='.', color='blue', label='Val loss')\n",
        "plt.legend()\n",
        "plt.xlabel('epoch')\n",
        "plt.ylabel('loss')\n",
        "plt.title('Loss during epochs')\n",
        "plt.show()"
      ],
      "execution_count": 0,
      "outputs": []
    },
    {
      "cell_type": "code",
      "metadata": {
        "id": "bD84vg0tjxKM",
        "colab_type": "code",
        "colab": {}
      },
      "source": [
        "# acc 그래프\n",
        "train_acc = hist.history['accuracy']\n",
        "val_acc = hist.history['val_accuracy']\n",
        "\n",
        "plt.plot(x, train_acc, marker='.', c='red', label='Train Acc.')\n",
        "plt.plot(x, val_acc, marker='.', c='blue', label='Val Acc.')\n",
        "plt.legend()\n",
        "plt.xlabel('epoch')\n",
        "plt.ylabel('accuracy')\n",
        "plt.title('Accuracy during epochs')\n",
        "plt.show()\n"
      ],
      "execution_count": 0,
      "outputs": []
    },
    {
      "cell_type": "code",
      "metadata": {
        "id": "z1hd9oH26vcZ",
        "colab_type": "code",
        "colab": {}
      },
      "source": [
        "# Test set으로 모델 평가\n",
        "score = model.evaluate(X_test, y_test, verbose=0)\n",
        "print('Training loss:', score[0])\n",
        "print('Training accuracy: ', score[1])"
      ],
      "execution_count": 0,
      "outputs": []
    },
    {
      "cell_type": "code",
      "metadata": {
        "id": "nsCClGK_RytO",
        "colab_type": "code",
        "colab": {}
      },
      "source": [
        "# Confusion Matrix\n",
        "\n",
        "from sklearn.metrics import confusion_matrix, classification_report\n",
        "test_true = np.argmax(y_test, axis=1)\n",
        "test_pred = np.argmax(model.predict(X_test), axis=1)\n",
        "\n",
        "cm = confusion_matrix(test_true, test_pred)\n",
        "print(cm)"
      ],
      "execution_count": 0,
      "outputs": []
    },
    {
      "cell_type": "code",
      "metadata": {
        "id": "5kz2HMf01WvM",
        "colab_type": "code",
        "colab": {}
      },
      "source": [
        "# Classification Report\n",
        "from sklearn.metrics import classification_report\n",
        "report = classification_report(test_true, test_pred, target_names=os.listdir('/content/drive/My Drive/data_label'))\n",
        "print(report)"
      ],
      "execution_count": 0,
      "outputs": []
    }
  ]
}