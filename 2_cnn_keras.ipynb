{
  "nbformat": 4,
  "nbformat_minor": 0,
  "metadata": {
    "colab": {
      "name": "cnn_keras_implementation.ipynb",
      "provenance": [],
      "collapsed_sections": []
    },
    "kernelspec": {
      "name": "python3",
      "display_name": "Python 3"
    },
    "accelerator": "GPU"
  },
  "cells": [
    {
      "cell_type": "markdown",
      "metadata": {
        "id": "4-vGg6I7CRGA",
        "colab_type": "text"
      },
      "source": [
        "https://www.tensorflow.org/api_docs/python/tf/keras/Model 참조로 cnn 구현해보기"
      ]
    },
    {
      "cell_type": "code",
      "metadata": {
        "id": "7zpzH7H1936I",
        "colab_type": "code",
        "colab": {}
      },
      "source": [
        "%tensorflow_version 2.x"
      ],
      "execution_count": 0,
      "outputs": []
    },
    {
      "cell_type": "code",
      "metadata": {
        "id": "Vpz7_b1a6yj2",
        "colab_type": "code",
        "colab": {}
      },
      "source": [
        "# 1. 모듈 import\n",
        "import tensorflow as tf\n",
        "import os, numpy as np\n",
        "from tensorflow.keras import Model\n",
        "from tensorflow.keras.layers import Dense, Flatten, Conv2D, Dropout, MaxPooling2D\n",
        "from tensorflow.keras.callbacks import ModelCheckpoint, EarlyStopping\n",
        "import matplotlib.pyplot as plt"
      ],
      "execution_count": 0,
      "outputs": []
    },
    {
      "cell_type": "code",
      "metadata": {
        "id": "trJWB94T9zNL",
        "colab_type": "code",
        "outputId": "1989f482-0e93-4670-d5b3-3cd613e31e65",
        "colab": {
          "base_uri": "https://localhost:8080/",
          "height": 71
        }
      },
      "source": [
        "# 2. npy 데이터를 불러와서 모델 학습(64 x 64 사이즈의 이미지 약 25000개)\n",
        "X_train, X_test, y_train, y_test = np.load(\"/content/drive/My Drive/last.npy\", allow_pickle=True)\n",
        "print(f'X_train: {X_train.shape}, y_train: {y_train.shape}')  \n",
        "print(f'X_test: {X_test.shape}, y_test: {y_test.shape}') \n",
        "\n",
        "# uint8 -> float32 타입 변환\n",
        "X_train = tf.cast(X_train, tf.float32)\n",
        "X_test = tf.cast(X_test, tf.float32)\n",
        "y_train = tf.cast(y_train, tf.float32)\n",
        "y_test = tf.cast(y_test, tf.float32)\n",
        "X_train.dtype\n"
      ],
      "execution_count": 72,
      "outputs": [
        {
          "output_type": "stream",
          "text": [
            "X_train: (20802, 64, 64, 3), y_train: (20802, 5)\n",
            "X_test: (5201, 64, 64, 3), y_test: (5201, 5)\n"
          ],
          "name": "stdout"
        },
        {
          "output_type": "execute_result",
          "data": {
            "text/plain": [
              "tf.float32"
            ]
          },
          "metadata": {
            "tags": []
          },
          "execution_count": 72
        }
      ]
    },
    {
      "cell_type": "code",
      "metadata": {
        "id": "HxuooCn1jAu0",
        "colab_type": "code",
        "colab": {}
      },
      "source": [
        "# 4. CNN 모델 구성\n",
        "inputs = tf.keras.Input(shape=(64, 64, 3))\n",
        "class firstcnn(tf.keras.Model):\n",
        "\n",
        "  def __init__(self):\n",
        "    super(firstcnn, self).__init__()\n",
        "    \n",
        "    self.conv1 = Conv2D(32, kernel_size=(3, 3), strides=(1, 1), padding='same', activation=tf.nn.relu)\n",
        "    self.pool1 = MaxPooling2D(pool_size=(2, 2))\n",
        "    \n",
        "    self.conv2 = Conv2D(32, kernel_size=(3, 3), padding='same', activation=tf.nn.relu)\n",
        "    self.pool2 = MaxPooling2D(pool_size=(2, 2))\n",
        "\n",
        "    self.conv3 = Conv2D(32, kernel_size=(3, 3), padding='same', activation=tf.nn.relu)\n",
        "    self.pool3 = MaxPooling2D(pool_size=(2, 2))\n",
        "    self.dropout1 = Dropout(0.25)\n",
        "\n",
        "    self.conv4 = Conv2D(64, kernel_size=(3, 3), padding='same', activation=tf.nn.relu)\n",
        "    self.pool4 = MaxPooling2D(pool_size=(2, 2))\n",
        "    self.dropout2 = Dropout(0.25)\n",
        "    self.flat = Flatten()\n",
        "    \n",
        "    self.d1 = Dense(256, activation=tf.nn.relu)\n",
        "    self.dropout3 = Dropout(0.5)\n",
        "    self.d2 = Dense(5, activation=tf.nn.softmax)\n",
        "\n",
        "  def call(self, inputs):\n",
        "    x = self.conv1(inputs)\n",
        "    x = self.pool1(x)\n",
        "    x = self.conv2(x)\n",
        "    x = self.pool2(x)\n",
        "    x = self.conv3(x)\n",
        "    x = self.pool3(x)\n",
        "    x = self.dropout1(x)\n",
        "    x = self.conv4(x)\n",
        "    x = self.pool4(x)\n",
        "    x = self.dropout2(x)\n",
        "    x = self.flat(x)\n",
        "    x = self.d1(x)\n",
        "    x = self.dropout3(x)\n",
        "    return self.d2(x)\n",
        "\n"
      ],
      "execution_count": 0,
      "outputs": []
    },
    {
      "cell_type": "code",
      "metadata": {
        "id": "yFNYnL4ZYDJR",
        "colab_type": "code",
        "outputId": "6d30ebe0-7d7c-4ab6-d84b-caf068d57beb",
        "colab": {
          "base_uri": "https://localhost:8080/",
          "height": 35
        }
      },
      "source": [
        "from google.colab import drive\n",
        "drive.mount('/content/drive')"
      ],
      "execution_count": 74,
      "outputs": [
        {
          "output_type": "stream",
          "text": [
            "Drive already mounted at /content/drive; to attempt to forcibly remount, call drive.mount(\"/content/drive\", force_remount=True).\n"
          ],
          "name": "stdout"
        }
      ]
    },
    {
      "cell_type": "code",
      "metadata": {
        "id": "rnj_xm5nCCzU",
        "colab_type": "code",
        "colab": {}
      },
      "source": [
        "model = firstcnn()"
      ],
      "execution_count": 0,
      "outputs": []
    },
    {
      "cell_type": "code",
      "metadata": {
        "id": "4XZtqI4OjDst",
        "colab_type": "code",
        "colab": {}
      },
      "source": [
        "# 4. 모델 컴파일\n",
        "model.compile(loss='categorical_crossentropy', optimizer='adam', metrics=['accuracy'])"
      ],
      "execution_count": 0,
      "outputs": []
    },
    {
      "cell_type": "code",
      "metadata": {
        "id": "B8WgJgNTjGNq",
        "colab_type": "code",
        "outputId": "e1ff72ae-c810-48c8-adda-3fe90ddc0ba9",
        "colab": {
          "base_uri": "https://localhost:8080/",
          "height": 1000
        }
      },
      "source": [
        "# 5. 모델 학습\n",
        "model_dir = \"./model\"\n",
        "if not os.path.exists(model_dir):\n",
        "  os.mkdir(model_dir)\n",
        "model_path = model_dir + '/test.model'\n",
        "checkpoint = ModelCheckpoint(filepath=model_path, monitor='val_loss', verbose=1, save_best_only=True)\n",
        "early_stopping = EarlyStopping(monitor='val_loss', patience=5)\n",
        "hist = model.fit(X_train, y_train, epochs=200, batch_size=200, validation_split=0.2, callbacks=[checkpoint, early_stopping])\n"
      ],
      "execution_count": 77,
      "outputs": [
        {
          "output_type": "stream",
          "text": [
            "Train on 16641 samples, validate on 4161 samples\n",
            "Epoch 1/200\n",
            "16200/16641 [============================>.] - ETA: 0s - loss: 3.6400 - accuracy: 0.3188\n",
            "Epoch 00001: val_loss improved from inf to 1.17715, saving model to ./model/test.model\n",
            "16641/16641 [==============================] - 2s 146us/sample - loss: 3.5760 - accuracy: 0.3223 - val_loss: 1.1772 - val_accuracy: 0.5124\n",
            "Epoch 2/200\n",
            "16400/16641 [============================>.] - ETA: 0s - loss: 1.1568 - accuracy: 0.5041\n",
            "Epoch 00002: val_loss improved from 1.17715 to 0.90663, saving model to ./model/test.model\n",
            "16641/16641 [==============================] - 2s 98us/sample - loss: 1.1543 - accuracy: 0.5059 - val_loss: 0.9066 - val_accuracy: 0.6626\n",
            "Epoch 3/200\n",
            "16000/16641 [===========================>..] - ETA: 0s - loss: 0.9147 - accuracy: 0.6406\n",
            "Epoch 00003: val_loss improved from 0.90663 to 0.69031, saving model to ./model/test.model\n",
            "16641/16641 [==============================] - 2s 97us/sample - loss: 0.9161 - accuracy: 0.6402 - val_loss: 0.6903 - val_accuracy: 0.7414\n",
            "Epoch 4/200\n",
            "16000/16641 [===========================>..] - ETA: 0s - loss: 0.7882 - accuracy: 0.6912\n",
            "Epoch 00004: val_loss did not improve from 0.69031\n",
            "16641/16641 [==============================] - 2s 93us/sample - loss: 0.7877 - accuracy: 0.6918 - val_loss: 0.6950 - val_accuracy: 0.7284\n",
            "Epoch 5/200\n",
            "16200/16641 [============================>.] - ETA: 0s - loss: 0.7255 - accuracy: 0.7202\n",
            "Epoch 00005: val_loss improved from 0.69031 to 0.60651, saving model to ./model/test.model\n",
            "16641/16641 [==============================] - 2s 96us/sample - loss: 0.7244 - accuracy: 0.7206 - val_loss: 0.6065 - val_accuracy: 0.7705\n",
            "Epoch 6/200\n",
            "16000/16641 [===========================>..] - ETA: 0s - loss: 0.6912 - accuracy: 0.7268\n",
            "Epoch 00006: val_loss did not improve from 0.60651\n",
            "16641/16641 [==============================] - 2s 94us/sample - loss: 0.6916 - accuracy: 0.7272 - val_loss: 0.6176 - val_accuracy: 0.7553\n",
            "Epoch 7/200\n",
            "16200/16641 [============================>.] - ETA: 0s - loss: 0.6872 - accuracy: 0.7346\n",
            "Epoch 00007: val_loss improved from 0.60651 to 0.58665, saving model to ./model/test.model\n",
            "16641/16641 [==============================] - 2s 94us/sample - loss: 0.6892 - accuracy: 0.7333 - val_loss: 0.5866 - val_accuracy: 0.7835\n",
            "Epoch 8/200\n",
            "16000/16641 [===========================>..] - ETA: 0s - loss: 0.6498 - accuracy: 0.7446\n",
            "Epoch 00008: val_loss improved from 0.58665 to 0.55499, saving model to ./model/test.model\n",
            "16641/16641 [==============================] - 2s 98us/sample - loss: 0.6498 - accuracy: 0.7436 - val_loss: 0.5550 - val_accuracy: 0.7782\n",
            "Epoch 9/200\n",
            "16200/16641 [============================>.] - ETA: 0s - loss: 0.6199 - accuracy: 0.7537\n",
            "Epoch 00009: val_loss did not improve from 0.55499\n",
            "16641/16641 [==============================] - 2s 94us/sample - loss: 0.6188 - accuracy: 0.7539 - val_loss: 0.5635 - val_accuracy: 0.7830\n",
            "Epoch 10/200\n",
            "16600/16641 [============================>.] - ETA: 0s - loss: 0.5978 - accuracy: 0.7630\n",
            "Epoch 00010: val_loss improved from 0.55499 to 0.53830, saving model to ./model/test.model\n",
            "16641/16641 [==============================] - 2s 96us/sample - loss: 0.5974 - accuracy: 0.7634 - val_loss: 0.5383 - val_accuracy: 0.7883\n",
            "Epoch 11/200\n",
            "16600/16641 [============================>.] - ETA: 0s - loss: 0.6234 - accuracy: 0.7566\n",
            "Epoch 00011: val_loss improved from 0.53830 to 0.52529, saving model to ./model/test.model\n",
            "16641/16641 [==============================] - 2s 96us/sample - loss: 0.6234 - accuracy: 0.7566 - val_loss: 0.5253 - val_accuracy: 0.7974\n",
            "Epoch 12/200\n",
            "16200/16641 [============================>.] - ETA: 0s - loss: 0.5544 - accuracy: 0.7856\n",
            "Epoch 00012: val_loss improved from 0.52529 to 0.51017, saving model to ./model/test.model\n",
            "16641/16641 [==============================] - 2s 96us/sample - loss: 0.5537 - accuracy: 0.7858 - val_loss: 0.5102 - val_accuracy: 0.8008\n",
            "Epoch 13/200\n",
            "16200/16641 [============================>.] - ETA: 0s - loss: 0.5411 - accuracy: 0.7873\n",
            "Epoch 00013: val_loss improved from 0.51017 to 0.49738, saving model to ./model/test.model\n",
            "16641/16641 [==============================] - 2s 95us/sample - loss: 0.5404 - accuracy: 0.7871 - val_loss: 0.4974 - val_accuracy: 0.8053\n",
            "Epoch 14/200\n",
            "16000/16641 [===========================>..] - ETA: 0s - loss: 0.5296 - accuracy: 0.7898\n",
            "Epoch 00014: val_loss improved from 0.49738 to 0.48449, saving model to ./model/test.model\n",
            "16641/16641 [==============================] - 2s 95us/sample - loss: 0.5304 - accuracy: 0.7891 - val_loss: 0.4845 - val_accuracy: 0.8027\n",
            "Epoch 15/200\n",
            "16600/16641 [============================>.] - ETA: 0s - loss: 0.5249 - accuracy: 0.7913\n",
            "Epoch 00015: val_loss improved from 0.48449 to 0.46111, saving model to ./model/test.model\n",
            "16641/16641 [==============================] - 2s 96us/sample - loss: 0.5247 - accuracy: 0.7915 - val_loss: 0.4611 - val_accuracy: 0.8195\n",
            "Epoch 16/200\n",
            "16400/16641 [============================>.] - ETA: 0s - loss: 0.5200 - accuracy: 0.7959\n",
            "Epoch 00016: val_loss improved from 0.46111 to 0.44477, saving model to ./model/test.model\n",
            "16641/16641 [==============================] - 2s 94us/sample - loss: 0.5190 - accuracy: 0.7964 - val_loss: 0.4448 - val_accuracy: 0.8231\n",
            "Epoch 17/200\n",
            "16600/16641 [============================>.] - ETA: 0s - loss: 0.4926 - accuracy: 0.8028\n",
            "Epoch 00017: val_loss improved from 0.44477 to 0.42539, saving model to ./model/test.model\n",
            "16641/16641 [==============================] - 2s 94us/sample - loss: 0.4929 - accuracy: 0.8027 - val_loss: 0.4254 - val_accuracy: 0.8311\n",
            "Epoch 18/200\n",
            "16000/16641 [===========================>..] - ETA: 0s - loss: 0.4829 - accuracy: 0.8107\n",
            "Epoch 00018: val_loss did not improve from 0.42539\n",
            "16641/16641 [==============================] - 2s 92us/sample - loss: 0.4843 - accuracy: 0.8109 - val_loss: 0.4517 - val_accuracy: 0.8248\n",
            "Epoch 19/200\n",
            "16000/16641 [===========================>..] - ETA: 0s - loss: 0.4863 - accuracy: 0.8063\n",
            "Epoch 00019: val_loss did not improve from 0.42539\n",
            "16641/16641 [==============================] - 2s 91us/sample - loss: 0.4882 - accuracy: 0.8056 - val_loss: 0.4781 - val_accuracy: 0.8075\n",
            "Epoch 20/200\n",
            "16000/16641 [===========================>..] - ETA: 0s - loss: 0.4619 - accuracy: 0.8165\n",
            "Epoch 00020: val_loss did not improve from 0.42539\n",
            "16641/16641 [==============================] - 2s 92us/sample - loss: 0.4633 - accuracy: 0.8154 - val_loss: 0.4524 - val_accuracy: 0.8267\n",
            "Epoch 21/200\n",
            "16200/16641 [============================>.] - ETA: 0s - loss: 0.4518 - accuracy: 0.8199\n",
            "Epoch 00021: val_loss did not improve from 0.42539\n",
            "16641/16641 [==============================] - 2s 94us/sample - loss: 0.4512 - accuracy: 0.8200 - val_loss: 0.4281 - val_accuracy: 0.8279\n",
            "Epoch 22/200\n",
            "16400/16641 [============================>.] - ETA: 0s - loss: 0.4491 - accuracy: 0.8207\n",
            "Epoch 00022: val_loss improved from 0.42539 to 0.40579, saving model to ./model/test.model\n",
            "16641/16641 [==============================] - 2s 96us/sample - loss: 0.4506 - accuracy: 0.8202 - val_loss: 0.4058 - val_accuracy: 0.8419\n",
            "Epoch 23/200\n",
            "16600/16641 [============================>.] - ETA: 0s - loss: 0.4231 - accuracy: 0.8320\n",
            "Epoch 00023: val_loss did not improve from 0.40579\n",
            "16641/16641 [==============================] - 2s 94us/sample - loss: 0.4230 - accuracy: 0.8322 - val_loss: 0.4114 - val_accuracy: 0.8474\n",
            "Epoch 24/200\n",
            "16000/16641 [===========================>..] - ETA: 0s - loss: 0.4190 - accuracy: 0.8310\n",
            "Epoch 00024: val_loss did not improve from 0.40579\n",
            "16641/16641 [==============================] - 2s 94us/sample - loss: 0.4214 - accuracy: 0.8304 - val_loss: 0.4663 - val_accuracy: 0.8125\n",
            "Epoch 25/200\n",
            "16200/16641 [============================>.] - ETA: 0s - loss: 0.4203 - accuracy: 0.8338\n",
            "Epoch 00025: val_loss improved from 0.40579 to 0.40300, saving model to ./model/test.model\n",
            "16641/16641 [==============================] - 2s 95us/sample - loss: 0.4202 - accuracy: 0.8337 - val_loss: 0.4030 - val_accuracy: 0.8493\n",
            "Epoch 26/200\n",
            "16400/16641 [============================>.] - ETA: 0s - loss: 0.4035 - accuracy: 0.8410\n",
            "Epoch 00026: val_loss improved from 0.40300 to 0.37961, saving model to ./model/test.model\n",
            "16641/16641 [==============================] - 2s 96us/sample - loss: 0.4041 - accuracy: 0.8408 - val_loss: 0.3796 - val_accuracy: 0.8469\n",
            "Epoch 27/200\n",
            "16400/16641 [============================>.] - ETA: 0s - loss: 0.4187 - accuracy: 0.8349\n",
            "Epoch 00027: val_loss did not improve from 0.37961\n",
            "16641/16641 [==============================] - 2s 95us/sample - loss: 0.4201 - accuracy: 0.8344 - val_loss: 0.3845 - val_accuracy: 0.8512\n",
            "Epoch 28/200\n",
            "16200/16641 [============================>.] - ETA: 0s - loss: 0.3914 - accuracy: 0.8456\n",
            "Epoch 00028: val_loss improved from 0.37961 to 0.35103, saving model to ./model/test.model\n",
            "16641/16641 [==============================] - 2s 96us/sample - loss: 0.3904 - accuracy: 0.8457 - val_loss: 0.3510 - val_accuracy: 0.8560\n",
            "Epoch 29/200\n",
            "16600/16641 [============================>.] - ETA: 0s - loss: 0.3763 - accuracy: 0.8519\n",
            "Epoch 00029: val_loss did not improve from 0.35103\n",
            "16641/16641 [==============================] - 2s 96us/sample - loss: 0.3765 - accuracy: 0.8521 - val_loss: 0.4108 - val_accuracy: 0.8349\n",
            "Epoch 30/200\n",
            "16200/16641 [============================>.] - ETA: 0s - loss: 0.3696 - accuracy: 0.8532\n",
            "Epoch 00030: val_loss did not improve from 0.35103\n",
            "16641/16641 [==============================] - 2s 94us/sample - loss: 0.3694 - accuracy: 0.8533 - val_loss: 0.3961 - val_accuracy: 0.8472\n",
            "Epoch 31/200\n",
            "16400/16641 [============================>.] - ETA: 0s - loss: 0.3869 - accuracy: 0.8493\n",
            "Epoch 00031: val_loss improved from 0.35103 to 0.33947, saving model to ./model/test.model\n",
            "16641/16641 [==============================] - 2s 96us/sample - loss: 0.3867 - accuracy: 0.8491 - val_loss: 0.3395 - val_accuracy: 0.8654\n",
            "Epoch 32/200\n",
            "16600/16641 [============================>.] - ETA: 0s - loss: 0.3600 - accuracy: 0.8588\n",
            "Epoch 00032: val_loss improved from 0.33947 to 0.32727, saving model to ./model/test.model\n",
            "16641/16641 [==============================] - 2s 95us/sample - loss: 0.3597 - accuracy: 0.8590 - val_loss: 0.3273 - val_accuracy: 0.8664\n",
            "Epoch 33/200\n",
            "16200/16641 [============================>.] - ETA: 0s - loss: 0.3622 - accuracy: 0.8555\n",
            "Epoch 00033: val_loss did not improve from 0.32727\n",
            "16641/16641 [==============================] - 2s 92us/sample - loss: 0.3626 - accuracy: 0.8554 - val_loss: 0.3609 - val_accuracy: 0.8568\n",
            "Epoch 34/200\n",
            "16000/16641 [===========================>..] - ETA: 0s - loss: 0.3529 - accuracy: 0.8596\n",
            "Epoch 00034: val_loss did not improve from 0.32727\n",
            "16641/16641 [==============================] - 2s 95us/sample - loss: 0.3535 - accuracy: 0.8591 - val_loss: 0.3683 - val_accuracy: 0.8503\n",
            "Epoch 35/200\n",
            "16200/16641 [============================>.] - ETA: 0s - loss: 0.3572 - accuracy: 0.8563\n",
            "Epoch 00035: val_loss improved from 0.32727 to 0.32629, saving model to ./model/test.model\n",
            "16641/16641 [==============================] - 2s 98us/sample - loss: 0.3567 - accuracy: 0.8567 - val_loss: 0.3263 - val_accuracy: 0.8743\n",
            "Epoch 36/200\n",
            "16200/16641 [============================>.] - ETA: 0s - loss: 0.3479 - accuracy: 0.8619\n",
            "Epoch 00036: val_loss did not improve from 0.32629\n",
            "16641/16641 [==============================] - 2s 94us/sample - loss: 0.3486 - accuracy: 0.8619 - val_loss: 0.3881 - val_accuracy: 0.8534\n",
            "Epoch 37/200\n",
            "16200/16641 [============================>.] - ETA: 0s - loss: 0.3507 - accuracy: 0.8657\n",
            "Epoch 00037: val_loss did not improve from 0.32629\n",
            "16641/16641 [==============================] - 2s 93us/sample - loss: 0.3514 - accuracy: 0.8649 - val_loss: 0.3687 - val_accuracy: 0.8534\n",
            "Epoch 38/200\n",
            "16200/16641 [============================>.] - ETA: 0s - loss: 0.3489 - accuracy: 0.8619\n",
            "Epoch 00038: val_loss improved from 0.32629 to 0.31541, saving model to ./model/test.model\n",
            "16641/16641 [==============================] - 2s 95us/sample - loss: 0.3468 - accuracy: 0.8628 - val_loss: 0.3154 - val_accuracy: 0.8731\n",
            "Epoch 39/200\n",
            "16400/16641 [============================>.] - ETA: 0s - loss: 0.3114 - accuracy: 0.8763\n",
            "Epoch 00039: val_loss did not improve from 0.31541\n",
            "16641/16641 [==============================] - 2s 97us/sample - loss: 0.3127 - accuracy: 0.8762 - val_loss: 0.3306 - val_accuracy: 0.8736\n",
            "Epoch 40/200\n",
            "16200/16641 [============================>.] - ETA: 0s - loss: 0.3208 - accuracy: 0.8743\n",
            "Epoch 00040: val_loss did not improve from 0.31541\n",
            "16641/16641 [==============================] - 2s 95us/sample - loss: 0.3194 - accuracy: 0.8746 - val_loss: 0.3168 - val_accuracy: 0.8784\n",
            "Epoch 41/200\n",
            "16200/16641 [============================>.] - ETA: 0s - loss: 0.3205 - accuracy: 0.8701\n",
            "Epoch 00041: val_loss did not improve from 0.31541\n",
            "16641/16641 [==============================] - 2s 96us/sample - loss: 0.3196 - accuracy: 0.8705 - val_loss: 0.3235 - val_accuracy: 0.8758\n",
            "Epoch 42/200\n",
            "16600/16641 [============================>.] - ETA: 0s - loss: 0.3012 - accuracy: 0.8804\n",
            "Epoch 00042: val_loss did not improve from 0.31541\n",
            "16641/16641 [==============================] - 2s 100us/sample - loss: 0.3012 - accuracy: 0.8804 - val_loss: 0.3531 - val_accuracy: 0.8613\n",
            "Epoch 43/200\n",
            "16000/16641 [===========================>..] - ETA: 0s - loss: 0.3152 - accuracy: 0.8750\n",
            "Epoch 00043: val_loss improved from 0.31541 to 0.29076, saving model to ./model/test.model\n",
            "16641/16641 [==============================] - 2s 99us/sample - loss: 0.3145 - accuracy: 0.8756 - val_loss: 0.2908 - val_accuracy: 0.8854\n",
            "Epoch 44/200\n",
            "16200/16641 [============================>.] - ETA: 0s - loss: 0.3059 - accuracy: 0.8807\n",
            "Epoch 00044: val_loss did not improve from 0.29076\n",
            "16641/16641 [==============================] - 2s 96us/sample - loss: 0.3049 - accuracy: 0.8813 - val_loss: 0.3106 - val_accuracy: 0.8772\n",
            "Epoch 45/200\n",
            "16400/16641 [============================>.] - ETA: 0s - loss: 0.2996 - accuracy: 0.8795\n",
            "Epoch 00045: val_loss improved from 0.29076 to 0.28901, saving model to ./model/test.model\n",
            "16641/16641 [==============================] - 2s 95us/sample - loss: 0.3000 - accuracy: 0.8790 - val_loss: 0.2890 - val_accuracy: 0.8858\n",
            "Epoch 46/200\n",
            "16400/16641 [============================>.] - ETA: 0s - loss: 0.2847 - accuracy: 0.8857\n",
            "Epoch 00046: val_loss did not improve from 0.28901\n",
            "16641/16641 [==============================] - 2s 92us/sample - loss: 0.2844 - accuracy: 0.8857 - val_loss: 0.3200 - val_accuracy: 0.8755\n",
            "Epoch 47/200\n",
            "16600/16641 [============================>.] - ETA: 0s - loss: 0.2848 - accuracy: 0.8882\n",
            "Epoch 00047: val_loss did not improve from 0.28901\n",
            "16641/16641 [==============================] - 2s 94us/sample - loss: 0.2852 - accuracy: 0.8880 - val_loss: 0.2975 - val_accuracy: 0.8837\n",
            "Epoch 48/200\n",
            "16200/16641 [============================>.] - ETA: 0s - loss: 0.2818 - accuracy: 0.8864\n",
            "Epoch 00048: val_loss did not improve from 0.28901\n",
            "16641/16641 [==============================] - 2s 93us/sample - loss: 0.2827 - accuracy: 0.8860 - val_loss: 0.3320 - val_accuracy: 0.8719\n",
            "Epoch 49/200\n",
            "16600/16641 [============================>.] - ETA: 0s - loss: 0.2961 - accuracy: 0.8845\n",
            "Epoch 00049: val_loss improved from 0.28901 to 0.28622, saving model to ./model/test.model\n",
            "16641/16641 [==============================] - 2s 96us/sample - loss: 0.2963 - accuracy: 0.8844 - val_loss: 0.2862 - val_accuracy: 0.8873\n",
            "Epoch 50/200\n",
            "16000/16641 [===========================>..] - ETA: 0s - loss: 0.2811 - accuracy: 0.8877\n",
            "Epoch 00050: val_loss improved from 0.28622 to 0.26963, saving model to ./model/test.model\n",
            "16641/16641 [==============================] - 2s 96us/sample - loss: 0.2796 - accuracy: 0.8883 - val_loss: 0.2696 - val_accuracy: 0.8916\n",
            "Epoch 51/200\n",
            "16600/16641 [============================>.] - ETA: 0s - loss: 0.2807 - accuracy: 0.8901\n",
            "Epoch 00051: val_loss did not improve from 0.26963\n",
            "16641/16641 [==============================] - 2s 93us/sample - loss: 0.2803 - accuracy: 0.8902 - val_loss: 0.3067 - val_accuracy: 0.8798\n",
            "Epoch 52/200\n",
            "16200/16641 [============================>.] - ETA: 0s - loss: 0.2692 - accuracy: 0.8925\n",
            "Epoch 00052: val_loss did not improve from 0.26963\n",
            "16641/16641 [==============================] - 2s 92us/sample - loss: 0.2685 - accuracy: 0.8927 - val_loss: 0.3221 - val_accuracy: 0.8707\n",
            "Epoch 53/200\n",
            "16400/16641 [============================>.] - ETA: 0s - loss: 0.2683 - accuracy: 0.8913\n",
            "Epoch 00053: val_loss did not improve from 0.26963\n",
            "16641/16641 [==============================] - 2s 94us/sample - loss: 0.2690 - accuracy: 0.8913 - val_loss: 0.2718 - val_accuracy: 0.8916\n",
            "Epoch 54/200\n",
            "16400/16641 [============================>.] - ETA: 0s - loss: 0.2690 - accuracy: 0.8952\n",
            "Epoch 00054: val_loss did not improve from 0.26963\n",
            "16641/16641 [==============================] - 2s 92us/sample - loss: 0.2697 - accuracy: 0.8952 - val_loss: 0.3143 - val_accuracy: 0.8726\n",
            "Epoch 55/200\n",
            "16000/16641 [===========================>..] - ETA: 0s - loss: 0.2667 - accuracy: 0.8929\n",
            "Epoch 00055: val_loss did not improve from 0.26963\n",
            "16641/16641 [==============================] - 2s 93us/sample - loss: 0.2688 - accuracy: 0.8918 - val_loss: 0.2706 - val_accuracy: 0.8909\n"
          ],
          "name": "stdout"
        }
      ]
    },
    {
      "cell_type": "code",
      "metadata": {
        "id": "VGhmlkIkPS1P",
        "colab_type": "code",
        "outputId": "cfe5e6ad-fcec-4a69-8ad3-59f3d73e0531",
        "colab": {
          "base_uri": "https://localhost:8080/",
          "height": 295
        }
      },
      "source": [
        "# loss 그래프\n",
        "train_loss = hist.history['loss']\n",
        "val_loss = hist.history['val_loss']\n",
        "\n",
        "x = range(len(train_loss))\n",
        "plt.plot(x, train_loss, marker='.', color='red', label='Train loss')\n",
        "plt.plot(x, val_loss, marker='.', color='blue', label='Val loss')\n",
        "plt.legend()\n",
        "plt.xlabel('epoch')\n",
        "plt.ylabel('loss')\n",
        "plt.title('Loss during epochs')\n",
        "plt.show()"
      ],
      "execution_count": 78,
      "outputs": [
        {
          "output_type": "display_data",
          "data": {
            "image/png": "[encoded data removed]",
            "text/plain": [
              "<Figure size 432x288 with 1 Axes>"
            ]
          },
          "metadata": {
            "tags": []
          }
        }
      ]
    },
    {
      "cell_type": "code",
      "metadata": {
        "id": "bD84vg0tjxKM",
        "colab_type": "code",
        "outputId": "d497d203-4863-4cb4-d607-255ff3c8a409",
        "colab": {
          "base_uri": "https://localhost:8080/",
          "height": 295
        }
      },
      "source": [
        "# acc 그래프\n",
        "train_acc = hist.history['accuracy']\n",
        "val_acc = hist.history['val_accuracy']\n",
        "\n",
        "plt.plot(x, train_acc, marker='.', c='red', label='Train Acc.')\n",
        "plt.plot(x, val_acc, marker='.', c='blue', label='Val Acc.')\n",
        "plt.legend()\n",
        "plt.xlabel('epoch')\n",
        "plt.ylabel('accuracy')\n",
        "plt.title('Accuracy during epochs')\n",
        "plt.show()\n"
      ],
      "execution_count": 79,
      "outputs": [
        {
          "output_type": "display_data",
          "data": {
            "image/png": "[encoded data removed]",
            "text/plain": [
              "<Figure size 432x288 with 1 Axes>"
            ]
          },
          "metadata": {
            "tags": []
          }
        }
      ]
    },
    {
      "cell_type": "code",
      "metadata": {
        "id": "z1hd9oH26vcZ",
        "colab_type": "code",
        "outputId": "78c80150-febb-4430-8425-76b265ec9b13",
        "colab": {
          "base_uri": "https://localhost:8080/",
          "height": 53
        }
      },
      "source": [
        "# Test set으로 모델 평가\n",
        "score = model.evaluate(X_test, y_test, verbose=0)\n",
        "print('Training loss:', score[0])\n",
        "print('Training accuracy: ', score[1])"
      ],
      "execution_count": 80,
      "outputs": [
        {
          "output_type": "stream",
          "text": [
            "Training loss: 0.2784612458202844\n",
            "Training accuracy:  0.8940588\n"
          ],
          "name": "stdout"
        }
      ]
    },
    {
      "cell_type": "code",
      "metadata": {
        "id": "nsCClGK_RytO",
        "colab_type": "code",
        "outputId": "eb0ea9a7-43d5-4825-9d33-205e4b6f268c",
        "colab": {
          "base_uri": "https://localhost:8080/",
          "height": 107
        }
      },
      "source": [
        "# Confusion Matrix\n",
        "\n",
        "from sklearn.metrics import confusion_matrix, classification_report\n",
        "test_true = np.argmax(y_test, axis=1)\n",
        "test_pred = np.argmax(model.predict(X_test), axis=1)\n",
        "\n",
        "cm = confusion_matrix(test_true, test_pred)\n",
        "print(cm)"
      ],
      "execution_count": 81,
      "outputs": [
        {
          "output_type": "stream",
          "text": [
            "[[ 955   23   19    7    4]\n",
            " [  39  851  149   14    2]\n",
            " [  76  153  798    6    1]\n",
            " [   8   21    2 1107   13]\n",
            " [   3    0    0   11  939]]\n"
          ],
          "name": "stdout"
        }
      ]
    },
    {
      "cell_type": "code",
      "metadata": {
        "id": "5kz2HMf01WvM",
        "colab_type": "code",
        "outputId": "22720c56-05a0-4092-e510-ab58cf19895d",
        "colab": {
          "base_uri": "https://localhost:8080/",
          "height": 233
        }
      },
      "source": [
        "# Classification Report\n",
        "from sklearn.metrics import classification_report\n",
        "report = classification_report(test_true, test_pred, target_names=os.listdir('/content/drive/My Drive/data_label'))\n",
        "print(report)"
      ],
      "execution_count": 82,
      "outputs": [
        {
          "output_type": "stream",
          "text": [
            "              precision    recall  f1-score   support\n",
            "\n",
            "       nevus       0.88      0.95      0.91      1008\n",
            "          df       0.81      0.81      0.81      1055\n",
            "      eschar       0.82      0.77      0.80      1034\n",
            "          vl       0.97      0.96      0.96      1151\n",
            "         mel       0.98      0.99      0.98       953\n",
            "\n",
            "    accuracy                           0.89      5201\n",
            "   macro avg       0.89      0.89      0.89      5201\n",
            "weighted avg       0.89      0.89      0.89      5201\n",
            "\n"
          ],
          "name": "stdout"
        }
      ]
    },
    {
      "cell_type": "markdown",
      "metadata": {
        "id": "LiBk_5TRwsFE",
        "colab_type": "text"
      },
      "source": [
        "˙ 정확도 약 89% </br>\n",
        "˙ 쯔쯔가무시 병변 레이블인 eschar의 정확도를 높이는데 1차 목표 </br>\n",
        "˙ \n",
        "˙ 모양새가 서로 비슷해 진단이 어렵다는 vl과 mel의 정확도 주의"
      ]
    }
  ]
}
